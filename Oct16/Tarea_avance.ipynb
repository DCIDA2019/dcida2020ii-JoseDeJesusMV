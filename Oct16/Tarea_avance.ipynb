{
 "cells": [
  {
   "cell_type": "markdown",
   "metadata": {},
   "source": [
    "Usaremos que la probabilidad de dos eventos $A$ y $B$, es decir,  $P(A\\cap B)$, es la probabilidad de $A$, $P(A)$, veces la probabilidad de B dado que A ha ocurrido, esto se escribe como $P(B|A)$.\n",
    "\n",
    "\\begin{equation}\n",
    "P(A ∩ B) = P(A)P(B|A)\n",
    "\\end{equation}\n",
    "\n",
    "Partimos de lo que nos dice el problema:\n",
    "La probabilidad de $A$ intersección $B$ también será igual a la probabilidad de $B$ \n",
    "veces la probabilidad de $A$ dado $B$. Esto es:\n",
    "\n",
    "\\begin{equation}\n",
    "P(A ∩ B) = P(B)P(A|B) \n",
    "\\end{equation}\n",
    "\n",
    "Insertando la primera ecuación en la segunda obtenemos:\n",
    "\n",
    "\\begin{equation}\n",
    "P(B)P(A|B) = P(A)P(B|A) \n",
    "\\end{equation}\n",
    "\n",
    "Y dividiendo a P(B) en ambas partes se tiene:\n",
    "\n",
    "\\begin{equation}\n",
    "P(A|B) = P(A) \\frac{P(B|A)}{P(B)}\n",
    "\\end{equation}\n",
    "\n",
    "Que es la ecuación del teorema de Bayes"
   ]
  },
  {
   "cell_type": "code",
   "execution_count": 19,
   "metadata": {},
   "outputs": [],
   "source": [
    "import numpy as np\n",
    "import math as mt\n",
    "import matplotlib.pyplot as plt\n",
    "import corner\n",
    "import scipy\n",
    "from scipy.stats import chi2"
   ]
  },
  {
   "cell_type": "code",
   "execution_count": 20,
   "metadata": {},
   "outputs": [],
   "source": [
    "#Primero creamos una recta\n",
    "sigma = 0.1\n",
    "\n",
    "x = np.linspace(0,3,30)\n",
    "y_base = 2*x + 1\n",
    "y_rand = sigma*np.random.randn(30)\n",
    "y = y_base + y_rand\n",
    "y_err = sigma + 0.01*np.random.randn(30)\n",
    "np.savetxt('recta.txt',(x,y,y_err))"
   ]
  },
  {
   "cell_type": "code",
   "execution_count": 21,
   "metadata": {},
   "outputs": [],
   "source": [
    "#El modelo sera una recta\n",
    "def recta(x,a,b):\n",
    "    return a*x + b\n",
    "\n",
    "#chi cuadrada\n",
    "def chisquare(t,data):\n",
    "    x = data[0]\n",
    "    y = data[1]\n",
    "    y_err = data[2]\n",
    "    modelo = recta(x,t[0],t[1])\n",
    "    chisq = (y-modelo)**2 / y_err**2   \n",
    "    return chisq.sum()"
   ]
  },
  {
   "cell_type": "code",
   "execution_count": 22,
   "metadata": {},
   "outputs": [
    {
     "data": {
      "text/plain": [
       "Text(0.5, 0, 'a')"
      ]
     },
     "execution_count": 22,
     "metadata": {},
     "output_type": "execute_result"
    },
    {
     "data": {
      "text/plain": [
       "<Figure size 432x288 with 0 Axes>"
      ]
     },
     "metadata": {},
     "output_type": "display_data"
    },
    {
     "data": {
      "image/png": "[encoded data removed]",
      "text/plain": [
       "<Figure size 720x720 with 1 Axes>"
      ]
     },
     "metadata": {
      "needs_background": "light"
     },
     "output_type": "display_data"
    }
   ],
   "source": [
    "np.random.seed(11)\n",
    "#Parametros iniciales\n",
    "ai = 0.\n",
    "bi = 0.\n",
    "\n",
    "# sigma de a y b\n",
    "sigma_a = 0.05\n",
    "sigma_b = 0.05\n",
    "\n",
    "a = [ai]\n",
    "b = [bi]\n",
    "chi_i = chisquare([ai,bi],[x,y,y_err])\n",
    "for i in range(10000): \n",
    "    #Generamos dos numeros random con los que comparar\n",
    "    a_rf = np.random.normal(ai,sigma_a) \n",
    "    b_rf = np.random.normal(bi,sigma_b) \n",
    "    ch_random = chisquare([a_rf,b_rf],[x,y,y_err])\n",
    "    if ch_random < chi_i:\n",
    "        a.append(a_rf)\n",
    "        b.append(b_rf)\n",
    "        ai = a_rf\n",
    "        bi = b_rf\n",
    "        chi_i = ch_random\n",
    "        \n",
    "    else:\n",
    "        r = -np.log(np.random.uniform(0,1))\n",
    "        resta = abs(ch_random-chi_i)\n",
    "        if resta<r:\n",
    "            a.append(a_rf)\n",
    "            b.append(b_rf)\n",
    "            ai = a_rf\n",
    "            bi = b_rf\n",
    "            chi_i = ch_random\n",
    "\n",
    "        else:\n",
    "            a.append(a_rf)\n",
    "            b.append(b_rf)\n",
    "            \n",
    "\n",
    "\n",
    "plt.figure(3)\n",
    "plt.figure(figsize=(10,10))\n",
    "plt.scatter(a,b,s=1,color = 'k')\n",
    "plt.ylabel('b')\n",
    "plt.xlabel('a')\n"
   ]
  },
  {
   "cell_type": "code",
   "execution_count": 23,
   "metadata": {},
   "outputs": [],
   "source": [
    "def metropolis(ai,bi,data,sigma):\n",
    "    np.random.seed(1)\n",
    "\n",
    "      #Valores iniciales chi_in\n",
    "    ch_in = [] \n",
    "    for i in range(len(a_ini)):\n",
    "        ch_in.append(chisquare([a_ini[i][0],b_ini[i][0]],data))\n",
    "        \n",
    "    return "
   ]
  },
  {
   "cell_type": "code",
   "execution_count": null,
   "metadata": {},
   "outputs": [],
   "source": []
  }
 ],
 "metadata": {
  "kernelspec": {
   "display_name": "Python 3",
   "language": "python",
   "name": "python3"
  },
  "language_info": {
   "codemirror_mode": {
    "name": "ipython",
    "version": 3
   },
   "file_extension": ".py",
   "mimetype": "text/x-python",
   "name": "python",
   "nbconvert_exporter": "python",
   "pygments_lexer": "ipython3",
   "version": "3.7.4"
  }
 },
 "nbformat": 4,
 "nbformat_minor": 4
}
