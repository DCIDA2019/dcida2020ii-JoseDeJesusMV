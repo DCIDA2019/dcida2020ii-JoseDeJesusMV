{
 "cells": [
  {
   "cell_type": "markdown",
   "metadata": {},
   "source": [
    "### Tarea 1\n",
    "Encuentre la función de distribución acumulativa para la distribución Gaussiana\n",
    "y reproducir las gráficas. Elija un número aleatorio entre 0\n",
    "y 1, y use el CDF para asignar el valor correspondiente de H0. Generar tantos números como desee, \n",
    "y haga el histograma de H0 para verificar que lo hizo bien. Utilizar\n",
    "una media de 70 y una sigma = 2."
   ]
  },
  {
   "cell_type": "code",
   "execution_count": null,
   "metadata": {},
   "outputs": [],
   "source": []
  },
  {
   "cell_type": "markdown",
   "metadata": {},
   "source": [
    "### Tarea 2\n",
    "Para las distribuciones mencionadas, de Poisson y Binomial, etc ...\n",
    "busque la media CDF y desviación estándar. Gradicar el PDF y CDF, para algunos\n",
    "valores de media y sigma.\n",
    "\n",
    "Investigar sobre otras funciones útiles de distribución."
   ]
  },
  {
   "cell_type": "markdown",
   "metadata": {},
   "source": [
    "### Tarea 3\n",
    "Muestre explícitamente que el mínimo cuadrado lineal\n",
    "se deriva de la minimización del Chi-Square\n",
    "cuando el modelo es una línea recta."
   ]
  },
  {
   "cell_type": "markdown",
   "metadata": {},
   "source": [
    "### Tarea 4\n",
    "Escriba una probabilidad de Poisson y\n",
    "identificar qué parámetro(s) corresponden a los datos y\n",
    "cuál(es) al modelo."
   ]
  },
  {
   "cell_type": "code",
   "execution_count": null,
   "metadata": {},
   "outputs": [],
   "source": []
  }
 ],
 "metadata": {
  "kernelspec": {
   "display_name": "Python 3",
   "language": "python",
   "name": "python3"
  },
  "language_info": {
   "codemirror_mode": {
    "name": "ipython",
    "version": 3
   },
   "file_extension": ".py",
   "mimetype": "text/x-python",
   "name": "python",
   "nbconvert_exporter": "python",
   "pygments_lexer": "ipython3",
   "version": "3.7.4"
  }
 },
 "nbformat": 4,
 "nbformat_minor": 2
}
