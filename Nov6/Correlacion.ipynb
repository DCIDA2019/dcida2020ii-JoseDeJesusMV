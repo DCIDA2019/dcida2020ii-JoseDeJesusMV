{
 "cells": [
  {
   "cell_type": "code",
   "execution_count": 1,
   "metadata": {},
   "outputs": [],
   "source": [
    "import numpy as np\n",
    "import matplotlib.pyplot as plt"
   ]
  },
  {
   "cell_type": "markdown",
   "metadata": {},
   "source": [
    "Usaremos el estimador de 2PCF de Landy y Szalay"
   ]
  },
  {
   "cell_type": "code",
   "execution_count": 17,
   "metadata": {},
   "outputs": [],
   "source": [
    "# medidas del cubo\n",
    "Lado = 1\n",
    "Num = 500\n",
    "Dim = 2\n",
    "\n",
    "#generamos dos arreglos aleatorios de 0 a Lado y con Num puntos, además de dimension Dim\n",
    "rand_a = np.zeros((Num,Dim))\n",
    "rand_b = np.zeros((Num,Dim))\n",
    "\n",
    "for i in range(Num):\n",
    "    rand_a[i] = np.random.uniform(0,Lado,Dim)\n",
    "    rand_b[i] = np.random.uniform(0,Lado,Dim)    "
   ]
  },
  {
   "cell_type": "code",
   "execution_count": 13,
   "metadata": {},
   "outputs": [],
   "source": [
    "#distancia entre el punto j y cada uno de los puntos de b \n",
    "def dist(a,b):\n",
    "    dist = []\n",
    "    #este ciclo for itera para el punto j=1 del arreglo a, el primer punto, j-b es un arreglo\n",
    "    # que contiene las distancias de ese punto a cada uno de los puntos de b\n",
    "    #posteriormente se guardan todas esas distancias en un arreglo \"D_ab\" de una dimension \n",
    "    #en la siguiente iteracion se fija en otro punto j=2 de a y calcula la distancia j - b de este\n",
    "    #nuevo punto a cada uno de los puntos de b, se agregan todos estos puntos a nuestro arreglo\n",
    "    #de distancias \"D_ab\"\n",
    "    for j in a:\n",
    "        D_ia = j-a\n",
    "        D_ab = np.linalg.norm(D_ia,axis=1)\n",
    "        dist.extend(D_ab)\n",
    "    return np.array(dist)\n",
    "\n",
    "#funcion de correlacion\n",
    "def corr(a,b,bins):\n",
    "    \n",
    "    DD = dist(a,a)\n",
    "    rD = np.linspace(0,np.max(DD),bins)\n",
    "    \n",
    "    RR = dist(b,b)\n",
    "    rR = np.linspace(0,np.max(RR),bins)\n",
    "    \n",
    "    DR = dist(a,b)\n",
    "    rDR = np.linspace(0,np.max(DR),bins)\n",
    "    \n",
    "    xi = []\n",
    "    \n",
    "    for i in range(bins-1):\n",
    "    #son len porque estamos contando cuantos caben en ese rango de r a r + dr\n",
    "        NDD = len(DD[(DD >= rD[i]) & (DD <= rD[i+1])])\n",
    "        NRR = len(RR[(RR >= rR[i]) & (RR <= rR[i+1])])\n",
    "        NDR = len(DR[(DR >= rDR[i]) & (DR <= rDR[i+1])])\n",
    "        xi.append(   NDD/(NRR)  -   2*NDR/(NRR)   +   1   )\n",
    "\n",
    "    #solo podremos generar 'bins -1' puntos porque necesitamos a i y a i+1 en el ciclo for    \n",
    "    return rD[:bins-1],np.array(xi)"
   ]
  },
  {
   "cell_type": "code",
   "execution_count": 19,
   "metadata": {},
   "outputs": [
    {
     "data": {
      "image/png": "[encoded data removed]",
      "text/plain": [
       "<Figure size 720x360 with 1 Axes>"
      ]
     },
     "metadata": {
      "needs_background": "light"
     },
     "output_type": "display_data"
    }
   ],
   "source": [
    "r,xi = corr(rand_a,rand_b,20)\n",
    "\n",
    "\n",
    "fig = plt.figure(figsize=(10,5))\n",
    "plt.scatter(r,xi, s=16, c='red')\n",
    "plt.plot(r,xi,'k-')\n",
    "plt.xlim(np.min(r),np.max(r))\n",
    "plt.ylim(-2,2)\n",
    "plt.xlabel('r',fontsize=16)\n",
    "plt.ylabel('$\\u03BE(r)$',fontsize=16)\n",
    "plt.title('Estimador',fontsize=16)\n",
    "plt.grid();"
   ]
  },
  {
   "cell_type": "code",
   "execution_count": null,
   "metadata": {},
   "outputs": [],
   "source": []
  }
 ],
 "metadata": {
  "kernelspec": {
   "display_name": "Python 3",
   "language": "python",
   "name": "python3"
  },
  "language_info": {
   "codemirror_mode": {
    "name": "ipython",
    "version": 3
   },
   "file_extension": ".py",
   "mimetype": "text/x-python",
   "name": "python",
   "nbconvert_exporter": "python",
   "pygments_lexer": "ipython3",
   "version": "3.7.4"
  }
 },
 "nbformat": 4,
 "nbformat_minor": 4
}
